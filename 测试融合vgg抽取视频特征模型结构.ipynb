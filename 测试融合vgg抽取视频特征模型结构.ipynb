{
 "cells": [
  {
   "cell_type": "code",
   "execution_count": 2,
   "metadata": {
    "ExecuteTime": {
     "end_time": "2021-11-20T02:33:50.360478Z",
     "start_time": "2021-11-20T02:33:46.271309Z"
    }
   },
   "outputs": [],
   "source": [
    "from tensorflow.keras.models import Sequential\n",
    "import tensorflow.keras as keras\n",
    "from tensorflow.keras import layers\n",
    "from tensorflow.keras.layers import Dense,Activation,Dropout,Conv2D,MaxPooling2D,Flatten,Embedding,LSTM,Conv1D,MaxPooling1D\n",
    "from tensorflow.keras.layers import Reshape,RepeatVector,Permute,Lambda,ActivityRegularization,Masking,Conv1D,Conv3D\n",
    "from tensorflow.keras.layers import GlobalAveragePooling1D,Input,SeparableConv1D,SeparableConv2D,concatenate\n",
    "from tensorflow.keras.optimizers import SGD\n",
    "from tensorflow.keras.preprocessing.image import ImageDataGenerator\n",
    "from tensorflow.keras.optimizers import SGD, Adam\n",
    "import numpy as np\n",
    "from tensorflow.keras.models import Model\n",
    "from tensorflow.keras.models import load_model\n",
    "import matplotlib.pyplot as plt\n",
    "import pandas as pd\n",
    "import math\n",
    "import random\n",
    "from tensorflow.keras.applications import VGG16\n",
    "import os\n",
    "from tensorflow.keras.callbacks import EarlyStopping\n",
    "import tensorflow.keras.backend as K\n",
    "from tensorflow.keras.applications import VGG16\n",
    "from tensorflow.keras.utils import plot_model"
   ]
  },
  {
   "cell_type": "code",
   "execution_count": 3,
   "metadata": {
    "ExecuteTime": {
     "end_time": "2021-11-20T02:33:50.758514Z",
     "start_time": "2021-11-20T02:33:50.362977Z"
    }
   },
   "outputs": [],
   "source": [
    "vgg_m = VGG16(include_top=False,input_shape=(240,240,3))    \n"
   ]
  },
  {
   "cell_type": "markdown",
   "metadata": {},
   "source": [
    "# 设计网络结构"
   ]
  },
  {
   "cell_type": "code",
   "execution_count": 4,
   "metadata": {
    "ExecuteTime": {
     "end_time": "2021-11-20T02:33:52.309541Z",
     "start_time": "2021-11-20T02:33:52.302860Z"
    },
    "scrolled": true
   },
   "outputs": [],
   "source": [
    "def create_model_v2():\n",
    "    vgg_m = VGG16(include_top=False,input_shape=(240,240,3))    \n",
    "    ipt_vd = Input((40,240,240,3))\n",
    "    def extend_vd_img(x):\n",
    "#         print(x.shape)\n",
    "        tfs = []\n",
    "        for i in range(x.shape[1]):\n",
    "            img_tf = x[:,i,:,:]\n",
    "            tfs.append( img_tf)\n",
    "        return tfs\n",
    "\n",
    "    lambda_out = layers.Lambda(extend_vd_img)(ipt_vd)\n",
    "#     print(len(lambda_out))\n",
    "    vgg_fs = []\n",
    "    img_s = []\n",
    "    for i in lambda_out:\n",
    "#         print(i.shape)\n",
    "        vgg_fs.append(vgg_m(i))\n",
    "        img_s.append(i)\n",
    "#     out = concatenate(vgg_fs)\n",
    "    out = [img_s,vgg_fs]\n",
    "#     out = Reshape((40,7,7,512))(out)\n",
    "    m = Model(inputs=ipt_vd,outputs=out)\n",
    "    print('v2 model',m.input_shape,m.output_shape)\n",
    "    return m\n",
    "# m1.summary()\n",
    "# m2 = create_model_v2()\n"
   ]
  },
  {
   "cell_type": "markdown",
   "metadata": {},
   "source": [
    "# 测试网络结构输出是否一直"
   ]
  },
  {
   "cell_type": "code",
   "execution_count": 5,
   "metadata": {
    "ExecuteTime": {
     "end_time": "2021-11-20T02:33:54.834233Z",
     "start_time": "2021-11-20T02:33:52.852927Z"
    },
    "scrolled": true
   },
   "outputs": [
    {
     "name": "stdout",
     "output_type": "stream",
     "text": [
      "v2 model (None, 40, 240, 240, 3) [[(None, 240, 240, 3), (None, 240, 240, 3), (None, 240, 240, 3), (None, 240, 240, 3), (None, 240, 240, 3), (None, 240, 240, 3), (None, 240, 240, 3), (None, 240, 240, 3), (None, 240, 240, 3), (None, 240, 240, 3), (None, 240, 240, 3), (None, 240, 240, 3), (None, 240, 240, 3), (None, 240, 240, 3), (None, 240, 240, 3), (None, 240, 240, 3), (None, 240, 240, 3), (None, 240, 240, 3), (None, 240, 240, 3), (None, 240, 240, 3), (None, 240, 240, 3), (None, 240, 240, 3), (None, 240, 240, 3), (None, 240, 240, 3), (None, 240, 240, 3), (None, 240, 240, 3), (None, 240, 240, 3), (None, 240, 240, 3), (None, 240, 240, 3), (None, 240, 240, 3), (None, 240, 240, 3), (None, 240, 240, 3), (None, 240, 240, 3), (None, 240, 240, 3), (None, 240, 240, 3), (None, 240, 240, 3), (None, 240, 240, 3), (None, 240, 240, 3), (None, 240, 240, 3), (None, 240, 240, 3)], [(None, 7, 7, 512), (None, 7, 7, 512), (None, 7, 7, 512), (None, 7, 7, 512), (None, 7, 7, 512), (None, 7, 7, 512), (None, 7, 7, 512), (None, 7, 7, 512), (None, 7, 7, 512), (None, 7, 7, 512), (None, 7, 7, 512), (None, 7, 7, 512), (None, 7, 7, 512), (None, 7, 7, 512), (None, 7, 7, 512), (None, 7, 7, 512), (None, 7, 7, 512), (None, 7, 7, 512), (None, 7, 7, 512), (None, 7, 7, 512), (None, 7, 7, 512), (None, 7, 7, 512), (None, 7, 7, 512), (None, 7, 7, 512), (None, 7, 7, 512), (None, 7, 7, 512), (None, 7, 7, 512), (None, 7, 7, 512), (None, 7, 7, 512), (None, 7, 7, 512), (None, 7, 7, 512), (None, 7, 7, 512), (None, 7, 7, 512), (None, 7, 7, 512), (None, 7, 7, 512), (None, 7, 7, 512), (None, 7, 7, 512), (None, 7, 7, 512), (None, 7, 7, 512), (None, 7, 7, 512)]]\n"
     ]
    }
   ],
   "source": [
    "m_v2 = create_model_v2()\n",
    "# plot_model(m_v1,to_file='model_pic/vgg_test40_frame.png',show_shapes=True,show_dtype=True,)\n"
   ]
  },
  {
   "cell_type": "code",
   "execution_count": 6,
   "metadata": {
    "ExecuteTime": {
     "end_time": "2021-11-20T02:33:54.839156Z",
     "start_time": "2021-11-20T02:33:54.836738Z"
    }
   },
   "outputs": [],
   "source": [
    "# plot_model(m_v2,to_file='model_pic/vgg_test40_frame-v2.png',show_shapes=True,show_dtype=True,)"
   ]
  },
  {
   "cell_type": "code",
   "execution_count": 7,
   "metadata": {
    "ExecuteTime": {
     "end_time": "2021-11-20T02:33:55.401368Z",
     "start_time": "2021-11-20T02:33:54.841772Z"
    }
   },
   "outputs": [
    {
     "data": {
      "text/plain": [
       "(4, 40, 240, 240, 3)"
      ]
     },
     "execution_count": 7,
     "metadata": {},
     "output_type": "execute_result"
    }
   ],
   "source": [
    "n = 4\n",
    "x_bath = np.random.randint(0,10,size=(n,40,240,240,3))\n",
    "    \n",
    "x_bath.astype(np.uint8).shape\n"
   ]
  },
  {
   "cell_type": "markdown",
   "metadata": {
    "ExecuteTime": {
     "end_time": "2021-11-19T10:13:39.252618Z",
     "start_time": "2021-11-19T10:13:39.239652Z"
    }
   },
   "source": [
    "## 检查模型预测稳定性，ok"
   ]
  },
  {
   "cell_type": "code",
   "execution_count": 8,
   "metadata": {
    "ExecuteTime": {
     "end_time": "2021-11-20T02:34:59.554211Z",
     "start_time": "2021-11-20T02:33:55.403637Z"
    }
   },
   "outputs": [],
   "source": [
    "[x_pred2_a,vgg_f_a] = m_v2.predict(x_bath)\n",
    "[x_pred2_b,vgg_f_b] = m_v2.predict(x_bath)"
   ]
  },
  {
   "cell_type": "code",
   "execution_count": 9,
   "metadata": {
    "ExecuteTime": {
     "end_time": "2021-11-20T02:34:59.939376Z",
     "start_time": "2021-11-20T02:34:59.557304Z"
    },
    "scrolled": true
   },
   "outputs": [
    {
     "name": "stdout",
     "output_type": "stream",
     "text": [
      "[ True]\n",
      "[ True]\n",
      "[ True]\n",
      "[ True]\n",
      "[ True]\n",
      "[ True]\n",
      "[ True]\n",
      "[ True]\n",
      "[ True]\n",
      "[ True]\n",
      "[ True]\n",
      "[ True]\n",
      "[ True]\n",
      "[ True]\n",
      "[ True]\n",
      "[ True]\n",
      "[ True]\n",
      "[ True]\n",
      "[ True]\n",
      "[ True]\n",
      "[ True]\n",
      "[ True]\n",
      "[ True]\n",
      "[ True]\n",
      "[ True]\n",
      "[ True]\n",
      "[ True]\n",
      "[ True]\n",
      "[ True]\n",
      "[ True]\n",
      "[ True]\n",
      "[ True]\n",
      "[ True]\n",
      "[ True]\n",
      "[ True]\n",
      "[ True]\n",
      "[ True]\n",
      "[ True]\n",
      "[ True]\n",
      "[ True]\n"
     ]
    }
   ],
   "source": [
    "for i in range(len(x_pred2_a)):\n",
    "#     print(x_pred2_a[i].shape)\n",
    "    t1 = x_pred2_a[i]\n",
    "    t2 = x_pred2_b[i]    \n",
    "    print(np.unique(t1==t2).flatten())"
   ]
  },
  {
   "cell_type": "code",
   "execution_count": 10,
   "metadata": {
    "ExecuteTime": {
     "end_time": "2021-11-20T02:35:00.008340Z",
     "start_time": "2021-11-20T02:34:59.941723Z"
    },
    "scrolled": true
   },
   "outputs": [
    {
     "name": "stdout",
     "output_type": "stream",
     "text": [
      "[ True]\n",
      "[ True]\n",
      "[ True]\n",
      "[ True]\n",
      "[ True]\n",
      "[ True]\n",
      "[ True]\n",
      "[ True]\n",
      "[ True]\n",
      "[ True]\n",
      "[ True]\n",
      "[ True]\n",
      "[ True]\n",
      "[ True]\n",
      "[ True]\n",
      "[ True]\n",
      "[ True]\n",
      "[ True]\n",
      "[ True]\n",
      "[ True]\n",
      "[ True]\n",
      "[ True]\n",
      "[ True]\n",
      "[ True]\n",
      "[ True]\n",
      "[ True]\n",
      "[ True]\n",
      "[ True]\n",
      "[ True]\n",
      "[ True]\n",
      "[ True]\n",
      "[ True]\n",
      "[ True]\n",
      "[ True]\n",
      "[ True]\n",
      "[ True]\n",
      "[ True]\n",
      "[ True]\n",
      "[ True]\n",
      "[ True]\n"
     ]
    }
   ],
   "source": [
    "for i in range(len(vgg_f_a)):\n",
    "#     print(x_pred2_a[i].shape)\n",
    "    t1 = vgg_f_a[i]\n",
    "    t2 = vgg_f_b[i]    \n",
    "    print(np.unique(t1==t2).flatten())"
   ]
  },
  {
   "cell_type": "code",
   "execution_count": null,
   "metadata": {},
   "outputs": [],
   "source": []
  },
  {
   "cell_type": "markdown",
   "metadata": {},
   "source": [
    "## 检查模型集成vgg抽取特征和直接预测特征的差异"
   ]
  },
  {
   "cell_type": "code",
   "execution_count": 11,
   "metadata": {
    "ExecuteTime": {
     "end_time": "2021-11-20T02:35:29.750794Z",
     "start_time": "2021-11-20T02:35:00.011397Z"
    }
   },
   "outputs": [],
   "source": [
    "[x_pred2,vgg_f] = m_v2.predict(x_bath)\n"
   ]
  },
  {
   "cell_type": "code",
   "execution_count": 12,
   "metadata": {
    "ExecuteTime": {
     "end_time": "2021-11-20T02:36:06.308211Z",
     "start_time": "2021-11-20T02:35:29.753414Z"
    },
    "scrolled": true
   },
   "outputs": [],
   "source": [
    "rs_vggs=[]\n",
    "rs2s=[]\n",
    "i_s=[]\n",
    "j_s=[]\n",
    "diff_rs=np.array([])\n",
    "for i in range(40):\n",
    "#     print(i,x_pred2[i].shape)\n",
    "    for j in range(n):\n",
    "        pred_img2 = x_pred2[i][j]\n",
    "        vgg_pred_f = vgg_f[i][j]\n",
    "        x_batch_img = x_bath[j][i]\n",
    "        vgg_each_f = vgg_m.predict(x_batch_img.reshape(1,240,240,3))\n",
    "        vgg_each_f = vgg_each_f.reshape(7,7,512)\n",
    "        rs_vgg_f_diff = vgg_each_f==vgg_pred_f\n",
    "        rs2 = pred_img2==x_batch_img   \n",
    "        rs2 = np.unique(rs2.flatten())\n",
    "#         print(diff_rs.shape)\n",
    "        diff_rs = np.append(diff_rs,(vgg_each_f-vgg_pred_f).flatten(),)\n",
    "        i_s.append(i)\n",
    "        j_s.append(j)\n",
    "        rs2s.append(str(rs2))    \n",
    "        rs_vggs.append(pd.DataFrame(rs_vgg_f_diff.flatten())[0].value_counts())"
   ]
  },
  {
   "cell_type": "code",
   "execution_count": null,
   "metadata": {},
   "outputs": [],
   "source": []
  },
  {
   "cell_type": "code",
   "execution_count": 13,
   "metadata": {
    "ExecuteTime": {
     "end_time": "2021-11-20T02:36:06.314829Z",
     "start_time": "2021-11-20T02:36:06.310311Z"
    }
   },
   "outputs": [
    {
     "data": {
      "text/plain": [
       "4014080"
      ]
     },
     "execution_count": 13,
     "metadata": {},
     "output_type": "execute_result"
    }
   ],
   "source": [
    "len(diff_rs)"
   ]
  },
  {
   "cell_type": "code",
   "execution_count": 14,
   "metadata": {
    "ExecuteTime": {
     "end_time": "2021-11-20T02:36:06.741826Z",
     "start_time": "2021-11-20T02:36:06.317813Z"
    }
   },
   "outputs": [
    {
     "data": {
      "image/png": "[encoded data removed]",
      "text/plain": [
       "<Figure size 432x288 with 1 Axes>"
      ]
     },
     "metadata": {
      "needs_background": "light"
     },
     "output_type": "display_data"
    }
   ],
   "source": [
    "diff_df = pd.DataFrame(diff_rs)\n",
    "diff_df.hist()\n",
    "plt.show()\n"
   ]
  },
  {
   "cell_type": "code",
   "execution_count": 15,
   "metadata": {
    "ExecuteTime": {
     "end_time": "2021-11-20T02:36:07.067771Z",
     "start_time": "2021-11-20T02:36:06.745022Z"
    }
   },
   "outputs": [
    {
     "data": {
      "text/html": [
       "<div>\n",
       "<style scoped>\n",
       "    .dataframe tbody tr th:only-of-type {\n",
       "        vertical-align: middle;\n",
       "    }\n",
       "\n",
       "    .dataframe tbody tr th {\n",
       "        vertical-align: top;\n",
       "    }\n",
       "\n",
       "    .dataframe thead th {\n",
       "        text-align: right;\n",
       "    }\n",
       "</style>\n",
       "<table border=\"1\" class=\"dataframe\">\n",
       "  <thead>\n",
       "    <tr style=\"text-align: right;\">\n",
       "      <th></th>\n",
       "      <th>0</th>\n",
       "    </tr>\n",
       "  </thead>\n",
       "  <tbody>\n",
       "    <tr>\n",
       "      <td>count</td>\n",
       "      <td>4.014080e+06</td>\n",
       "    </tr>\n",
       "    <tr>\n",
       "      <td>mean</td>\n",
       "      <td>2.551921e-12</td>\n",
       "    </tr>\n",
       "    <tr>\n",
       "      <td>std</td>\n",
       "      <td>6.650700e-09</td>\n",
       "    </tr>\n",
       "    <tr>\n",
       "      <td>min</td>\n",
       "      <td>-9.536743e-07</td>\n",
       "    </tr>\n",
       "    <tr>\n",
       "      <td>25%</td>\n",
       "      <td>0.000000e+00</td>\n",
       "    </tr>\n",
       "    <tr>\n",
       "      <td>50%</td>\n",
       "      <td>0.000000e+00</td>\n",
       "    </tr>\n",
       "    <tr>\n",
       "      <td>75%</td>\n",
       "      <td>0.000000e+00</td>\n",
       "    </tr>\n",
       "    <tr>\n",
       "      <td>max</td>\n",
       "      <td>9.536743e-07</td>\n",
       "    </tr>\n",
       "  </tbody>\n",
       "</table>\n",
       "</div>"
      ],
      "text/plain": [
       "                  0\n",
       "count  4.014080e+06\n",
       "mean   2.551921e-12\n",
       "std    6.650700e-09\n",
       "min   -9.536743e-07\n",
       "25%    0.000000e+00\n",
       "50%    0.000000e+00\n",
       "75%    0.000000e+00\n",
       "max    9.536743e-07"
      ]
     },
     "execution_count": 15,
     "metadata": {},
     "output_type": "execute_result"
    }
   ],
   "source": [
    "diff_df.describe()\n",
    "# 此处有微小的预测值差异，原因在哪里？图片输入相同但是vgg预测不同。"
   ]
  },
  {
   "cell_type": "code",
   "execution_count": 16,
   "metadata": {
    "ExecuteTime": {
     "end_time": "2021-11-20T02:36:07.074228Z",
     "start_time": "2021-11-20T02:36:07.070024Z"
    }
   },
   "outputs": [
    {
     "data": {
      "text/plain": [
       "(7, 7, 512)"
      ]
     },
     "execution_count": 16,
     "metadata": {},
     "output_type": "execute_result"
    }
   ],
   "source": [
    "vgg_each_f.shape"
   ]
  },
  {
   "cell_type": "code",
   "execution_count": 17,
   "metadata": {
    "ExecuteTime": {
     "end_time": "2021-11-20T02:36:07.080518Z",
     "start_time": "2021-11-20T02:36:07.076055Z"
    }
   },
   "outputs": [
    {
     "data": {
      "text/plain": [
       "(7, 7, 512)"
      ]
     },
     "execution_count": 17,
     "metadata": {},
     "output_type": "execute_result"
    }
   ],
   "source": [
    "vgg_pred_f.shape"
   ]
  },
  {
   "cell_type": "code",
   "execution_count": 18,
   "metadata": {
    "ExecuteTime": {
     "end_time": "2021-11-20T02:36:07.096405Z",
     "start_time": "2021-11-20T02:36:07.083306Z"
    }
   },
   "outputs": [],
   "source": [
    "rs_a = pd.DataFrame({'i':i_s,'j':j_s,'rs2':rs2s,'rs_vggs':rs_vggs})"
   ]
  },
  {
   "cell_type": "code",
   "execution_count": 19,
   "metadata": {
    "ExecuteTime": {
     "end_time": "2021-11-20T02:36:07.108042Z",
     "start_time": "2021-11-20T02:36:07.099040Z"
    }
   },
   "outputs": [
    {
     "data": {
      "text/plain": [
       "[ True]    160\n",
       "Name: rs2, dtype: int64"
      ]
     },
     "execution_count": 19,
     "metadata": {},
     "output_type": "execute_result"
    }
   ],
   "source": [
    "rs_a.rs2.value_counts()"
   ]
  },
  {
   "cell_type": "code",
   "execution_count": 20,
   "metadata": {
    "ExecuteTime": {
     "end_time": "2021-11-20T02:36:07.136740Z",
     "start_time": "2021-11-20T02:36:07.110543Z"
    }
   },
   "outputs": [
    {
     "data": {
      "text/html": [
       "<div>\n",
       "<style scoped>\n",
       "    .dataframe tbody tr th:only-of-type {\n",
       "        vertical-align: middle;\n",
       "    }\n",
       "\n",
       "    .dataframe tbody tr th {\n",
       "        vertical-align: top;\n",
       "    }\n",
       "\n",
       "    .dataframe thead th {\n",
       "        text-align: right;\n",
       "    }\n",
       "</style>\n",
       "<table border=\"1\" class=\"dataframe\">\n",
       "  <thead>\n",
       "    <tr style=\"text-align: right;\">\n",
       "      <th></th>\n",
       "      <th>i</th>\n",
       "      <th>j</th>\n",
       "      <th>rs2</th>\n",
       "      <th>rs_vggs</th>\n",
       "    </tr>\n",
       "  </thead>\n",
       "  <tbody>\n",
       "    <tr>\n",
       "      <td>0</td>\n",
       "      <td>0</td>\n",
       "      <td>0</td>\n",
       "      <td>[ True]</td>\n",
       "      <td>True     25025\n",
       "False       63\n",
       "Name: 0, dtype: ...</td>\n",
       "    </tr>\n",
       "    <tr>\n",
       "      <td>1</td>\n",
       "      <td>0</td>\n",
       "      <td>1</td>\n",
       "      <td>[ True]</td>\n",
       "      <td>True     25025\n",
       "False       63\n",
       "Name: 0, dtype: ...</td>\n",
       "    </tr>\n",
       "    <tr>\n",
       "      <td>2</td>\n",
       "      <td>0</td>\n",
       "      <td>2</td>\n",
       "      <td>[ True]</td>\n",
       "      <td>True     25042\n",
       "False       46\n",
       "Name: 0, dtype: ...</td>\n",
       "    </tr>\n",
       "    <tr>\n",
       "      <td>3</td>\n",
       "      <td>0</td>\n",
       "      <td>3</td>\n",
       "      <td>[ True]</td>\n",
       "      <td>True     25035\n",
       "False       53\n",
       "Name: 0, dtype: ...</td>\n",
       "    </tr>\n",
       "    <tr>\n",
       "      <td>4</td>\n",
       "      <td>1</td>\n",
       "      <td>0</td>\n",
       "      <td>[ True]</td>\n",
       "      <td>True     25023\n",
       "False       65\n",
       "Name: 0, dtype: ...</td>\n",
       "    </tr>\n",
       "    <tr>\n",
       "      <td>...</td>\n",
       "      <td>...</td>\n",
       "      <td>...</td>\n",
       "      <td>...</td>\n",
       "      <td>...</td>\n",
       "    </tr>\n",
       "    <tr>\n",
       "      <td>155</td>\n",
       "      <td>38</td>\n",
       "      <td>3</td>\n",
       "      <td>[ True]</td>\n",
       "      <td>True     24999\n",
       "False       89\n",
       "Name: 0, dtype: ...</td>\n",
       "    </tr>\n",
       "    <tr>\n",
       "      <td>156</td>\n",
       "      <td>39</td>\n",
       "      <td>0</td>\n",
       "      <td>[ True]</td>\n",
       "      <td>True     25026\n",
       "False       62\n",
       "Name: 0, dtype: ...</td>\n",
       "    </tr>\n",
       "    <tr>\n",
       "      <td>157</td>\n",
       "      <td>39</td>\n",
       "      <td>1</td>\n",
       "      <td>[ True]</td>\n",
       "      <td>True     25016\n",
       "False       72\n",
       "Name: 0, dtype: ...</td>\n",
       "    </tr>\n",
       "    <tr>\n",
       "      <td>158</td>\n",
       "      <td>39</td>\n",
       "      <td>2</td>\n",
       "      <td>[ True]</td>\n",
       "      <td>True     25026\n",
       "False       62\n",
       "Name: 0, dtype: ...</td>\n",
       "    </tr>\n",
       "    <tr>\n",
       "      <td>159</td>\n",
       "      <td>39</td>\n",
       "      <td>3</td>\n",
       "      <td>[ True]</td>\n",
       "      <td>True     25007\n",
       "False       81\n",
       "Name: 0, dtype: ...</td>\n",
       "    </tr>\n",
       "  </tbody>\n",
       "</table>\n",
       "<p>160 rows × 4 columns</p>\n",
       "</div>"
      ],
      "text/plain": [
       "      i  j      rs2                                            rs_vggs\n",
       "0     0  0  [ True]  True     25025\n",
       "False       63\n",
       "Name: 0, dtype: ...\n",
       "1     0  1  [ True]  True     25025\n",
       "False       63\n",
       "Name: 0, dtype: ...\n",
       "2     0  2  [ True]  True     25042\n",
       "False       46\n",
       "Name: 0, dtype: ...\n",
       "3     0  3  [ True]  True     25035\n",
       "False       53\n",
       "Name: 0, dtype: ...\n",
       "4     1  0  [ True]  True     25023\n",
       "False       65\n",
       "Name: 0, dtype: ...\n",
       "..   .. ..      ...                                                ...\n",
       "155  38  3  [ True]  True     24999\n",
       "False       89\n",
       "Name: 0, dtype: ...\n",
       "156  39  0  [ True]  True     25026\n",
       "False       62\n",
       "Name: 0, dtype: ...\n",
       "157  39  1  [ True]  True     25016\n",
       "False       72\n",
       "Name: 0, dtype: ...\n",
       "158  39  2  [ True]  True     25026\n",
       "False       62\n",
       "Name: 0, dtype: ...\n",
       "159  39  3  [ True]  True     25007\n",
       "False       81\n",
       "Name: 0, dtype: ...\n",
       "\n",
       "[160 rows x 4 columns]"
      ]
     },
     "execution_count": 20,
     "metadata": {},
     "output_type": "execute_result"
    }
   ],
   "source": [
    "# \n",
    "rs_a"
   ]
  },
  {
   "cell_type": "code",
   "execution_count": null,
   "metadata": {},
   "outputs": [],
   "source": []
  },
  {
   "cell_type": "code",
   "execution_count": null,
   "metadata": {},
   "outputs": [],
   "source": []
  },
  {
   "cell_type": "code",
   "execution_count": null,
   "metadata": {},
   "outputs": [],
   "source": []
  }
 ],
 "metadata": {
  "kernelspec": {
   "display_name": "Python 3",
   "language": "python",
   "name": "python3"
  },
  "toc": {
   "base_numbering": 1,
   "nav_menu": {},
   "number_sections": true,
   "sideBar": true,
   "skip_h1_title": false,
   "title_cell": "Table of Contents",
   "title_sidebar": "Contents",
   "toc_cell": false,
   "toc_position": {},
   "toc_section_display": true,
   "toc_window_display": true
  }
 },
 "nbformat": 4,
 "nbformat_minor": 2
}
